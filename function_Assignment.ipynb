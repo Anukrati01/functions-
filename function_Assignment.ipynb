{
  "nbformat": 4,
  "nbformat_minor": 0,
  "metadata": {
    "colab": {
      "provenance": []
    },
    "kernelspec": {
      "name": "python3",
      "display_name": "Python 3"
    },
    "language_info": {
      "name": "python"
    }
  },
  "cells": [
    {
      "cell_type": "markdown",
      "source": [
        "**Function**"
      ],
      "metadata": {
        "id": "m--PriGPy9uj"
      }
    },
    {
      "cell_type": "markdown",
      "source": [
        "1.  What is the difference between a function and a method in Python?\n",
        "    -  a function is a block of code that performs a task independently, while a method is a function that is associated with a class or object."
      ],
      "metadata": {
        "id": "vXEXo8kZzT_F"
      }
    },
    {
      "cell_type": "markdown",
      "source": [
        "2.  Explain the concept of function arguments and parameters in Python.\n",
        "     - Parameters:- are variables defined in a function declaration. This act as placeholders for the values (arguments) that will be passed to the function.\n",
        "    \n",
        "     Arguments:- are the actual values that you pass to the function when you call it. These values replace the parameters defined in the function."
      ],
      "metadata": {
        "id": "RX0d_GW7zjYd"
      }
    },
    {
      "cell_type": "markdown",
      "source": [
        "3.  What are the different ways to define and call a function in Python?\n",
        "   - We can define a function in Python, using the def keyword. We can add any type of functionalities and properties to it as we require. By the following example, we can understand how to write a function in Python-\n",
        "       # A simple Python function\n",
        "       def fun():\n",
        "          print(\"Welcome to HOME\")\n",
        "       fun()\n",
        "        \n",
        "         **Output**\n",
        "        \n",
        "         Welcom to HOME"
      ],
      "metadata": {
        "id": "XAbyXwSRzpW1"
      }
    },
    {
      "cell_type": "markdown",
      "source": [
        "4. What is the purpose of the `return` statement in a Python function?\n",
        "  -  A return statement is used to end the execution of the function call and it “returns” the value of the expression following the return keyword to the caller.\n"
      ],
      "metadata": {
        "id": "QWWsL7R9zvGl"
      }
    },
    {
      "cell_type": "markdown",
      "source": [
        "5.  What are iterators in Python and how do they differ from iterables?\n",
        "    - Iterable is an object, that one can iterate over. It generates an Iterator when passed to iter() method. An iterator is an object, which is used to iterate over an iterable object using the __next__() method. Iterators have the __next__() method, which returns the next item of the object. Every iterator is also an iterable, but not every iterable is an iterator in Python."
      ],
      "metadata": {
        "id": "vQy9eGpuzvdr"
      }
    },
    {
      "cell_type": "markdown",
      "source": [
        "6.  Explain the concept of generators in Python and how they are defined.\n",
        "     - A generator function is a special type of function that returns an iterator object. Instead of using return to send back a single value, generator functions use yield to produce a series of results over time. This allows the function to generate values and pause its execution after each yield, maintaining its state between iterations."
      ],
      "metadata": {
        "id": "v8UqpNLkzv1B"
      }
    },
    {
      "cell_type": "markdown",
      "source": [
        "7.  What are the advantages of using generators over regular functions?\n",
        "    - There are several advantages to using generators over regular loops. Here are a few of the most important ones:\n",
        "\n",
        "   1.  Memory Efficiency: One of the biggest advantages of generators is that they are memory efficient. Since a generator yields its values one by one, it does not need to store all of the values in memory at once. This can be especially useful when working with large data sets, as it reduces the risk of running out of memory.\n",
        "   2.Readability: Generators can make your code easier to read and understand. By breaking up the iteration process into smaller chunks, you can write code that is more concise and easier to follow.\n",
        "   \n",
        "    3. Speed: Generators can also be faster than regular loops, especially when working with large data sets. This is because they avoid the overhead of creating a list or other data structure to store the results."
      ],
      "metadata": {
        "id": "o_aL34gjzwXO"
      }
    },
    {
      "cell_type": "markdown",
      "source": [
        "8.  What is a lambda function in Python and when is it typically used?\n",
        "  - Python's Lambda Functions: When and How to Use ThemA lambda function in Python is a small, anonymous function that's defined in a single line of code and used for short-term operations. The lambda keyword is used to define a lambda function, and the syntax is lambda parameters: expression."
      ],
      "metadata": {
        "id": "tUdLeIXIzw2x"
      }
    },
    {
      "cell_type": "markdown",
      "source": [
        "9.  Explain the purpose and usage of the `map()` function in Python.\n",
        "    - The map() function is used to apply a given function to every item of an iterable, such as a list or tuple, and returns a map object ."
      ],
      "metadata": {
        "id": "elOtrPJvzxWG"
      }
    },
    {
      "cell_type": "markdown",
      "source": [
        "10.  What is the difference between `map()`, `reduce()`, and `filter()` functions in Python?\n",
        "   - All three functions take function to apply on iterator and iterator as input.\n",
        "\n",
        "      (function_to_apply, list_of_inputs)\n",
        "\n",
        "      MAP function to each element of iterator and collects result.\n",
        "\n",
        "      FILTER applies function to each element of iterator and collect those elements for which function returns true. For this function need to return boolean value.\n",
        "\n",
        "      REDUCE applies rolling computation to sequential pair of elements in iterator. Initially it takes two elements from iterator in sequence, applies function, collect result, then take next element in sequence from iterator, applies function and repeat this untill list has single value."
      ],
      "metadata": {
        "id": "Wf_-tJhwzxxg"
      }
    },
    {
      "cell_type": "markdown",
      "source": [
        "11.  Using pen & Paper write the internal mechanism for sum operation using  reduce function on this given\n",
        "list:[47,11,42,13];\n",
        "\n",
        "     list = [47,11,42,13]\n",
        "    \n",
        "     step 1\n",
        "    \n",
        "     Now x=47 & y=11\n",
        "    \n",
        "     x+y\n",
        "    \n",
        "     58\n",
        "    \n",
        "     step 2\n",
        "    \n",
        "     x=58 , y=42\n",
        "    \n",
        "     100\n",
        "    \n",
        "     step 3\n",
        "    \n",
        "     x=100 , y=13\n",
        "    \n",
        "     113"
      ],
      "metadata": {
        "id": "VIhi8Twe0i9c"
      }
    },
    {
      "cell_type": "code",
      "source": [
        "# Write a Python function that takes a list of numbers as input and returns the sum of all even numbers in\n",
        "def sum_even(a):\n",
        "\tsum_ = 0\n",
        "\tfor value in a:\n",
        "\t\tif value % 2 == 0:\n",
        "\t\t\tsum_ += value\n",
        "\treturn sum_\n",
        "\n",
        "\n",
        "print(sum_even([10, 5, 6, 1]))"
      ],
      "metadata": {
        "colab": {
          "base_uri": "https://localhost:8080/"
        },
        "id": "OsNnXabj1EAi",
        "outputId": "5b22a359-2769-4ecf-845a-b3170a27680d"
      },
      "execution_count": null,
      "outputs": [
        {
          "output_type": "stream",
          "name": "stdout",
          "text": [
            "16\n"
          ]
        }
      ]
    },
    {
      "cell_type": "code",
      "source": [
        "# Create a Python function that accepts a string and returns the reverse of that string\n",
        "def my_function(x):\n",
        "  return x[::-1]\n",
        "\n",
        "text = my_function(\"Welcom to my home\")\n",
        "\n",
        "print(text)"
      ],
      "metadata": {
        "colab": {
          "base_uri": "https://localhost:8080/"
        },
        "id": "5O58_9lw1Kr0",
        "outputId": "06243d02-c0d0-48ae-9734-c9983339016b"
      },
      "execution_count": null,
      "outputs": [
        {
          "output_type": "stream",
          "name": "stdout",
          "text": [
            "emoh ym ot mocleW\n"
          ]
        }
      ]
    },
    {
      "cell_type": "code",
      "source": [
        "#  Implement a Python function that takes a list of integers and returns a new list containing the squares of\n",
        "#each number.\n",
        "numbers = [1, 2, 3, 4, 5]\n",
        "squared_numbers = [x ** 2 for x in numbers]\n",
        "print(squared_numbers)\n",
        "\n"
      ],
      "metadata": {
        "id": "RbtFvLEj1Le1",
        "colab": {
          "base_uri": "https://localhost:8080/"
        },
        "outputId": "8e443dfc-5f50-4e84-dc37-9818ae3e0568"
      },
      "execution_count": null,
      "outputs": [
        {
          "output_type": "stream",
          "name": "stdout",
          "text": [
            "[1, 4, 9, 16, 25]\n"
          ]
        }
      ]
    },
    {
      "cell_type": "code",
      "source": [
        "#Write a Python function that checks if a given number is prime or not from 1 to 200.\n",
        "def is_prime(num):\n",
        "    if num <= 1:\n",
        "        return False\n",
        "    for i in range(2, int(num**0.5) + 1):\n",
        "        if num % i == 0:\n",
        "            return False\n",
        "    return True\n",
        "primes = []\n",
        "for num in range(1, 101):\n",
        "    if is_prime(num):\n",
        "        primes.append(num)\n",
        "print(primes)\n"
      ],
      "metadata": {
        "id": "Dl9caVs81MUm",
        "colab": {
          "base_uri": "https://localhost:8080/"
        },
        "outputId": "65b564f1-9bac-4dce-a6af-5b67bb3ccde2"
      },
      "execution_count": null,
      "outputs": [
        {
          "output_type": "stream",
          "name": "stdout",
          "text": [
            "[2, 3, 5, 7, 11, 13, 17, 19, 23, 29, 31, 37, 41, 43, 47, 53, 59, 61, 67, 71, 73, 79, 83, 89, 97]\n"
          ]
        }
      ]
    },
    {
      "cell_type": "code",
      "source": [
        "# Create an iterator class in Python that generates the Fibonacci sequence up to a specified number of\n",
        "#terms.\n",
        "a = int(input('Give amount: '))\n",
        "\n",
        "def fib(n):\n",
        "    a, b = 0, 1\n",
        "    for _ in range(n):\n",
        "        yield a\n",
        "        a, b = b, a + b\n",
        "\n",
        "print(list(fib(a)))"
      ],
      "metadata": {
        "id": "YPHWDJio1MqF",
        "colab": {
          "base_uri": "https://localhost:8080/"
        },
        "outputId": "1df99e2f-487a-43c6-e965-cc251e544b47"
      },
      "execution_count": null,
      "outputs": [
        {
          "output_type": "stream",
          "name": "stdout",
          "text": [
            "Give amount: 10\n",
            "[0, 1, 1, 2, 3, 5, 8, 13, 21, 34]\n"
          ]
        }
      ]
    },
    {
      "cell_type": "code",
      "source": [
        "# Write a generator function in Python that yields the powers of 2 up to a given exponent.\n",
        "import math\n",
        "x = 10\n",
        "r = math.exp(x)\n",
        "print(\"Exponential of\", x, \":\", r)"
      ],
      "metadata": {
        "id": "UXcdYZku1M87",
        "colab": {
          "base_uri": "https://localhost:8080/"
        },
        "outputId": "23e272c0-3b86-4163-e4d0-3b81f7607241"
      },
      "execution_count": null,
      "outputs": [
        {
          "output_type": "stream",
          "name": "stdout",
          "text": [
            "Exponential of 10 : 22026.465794806718\n"
          ]
        }
      ]
    },
    {
      "cell_type": "code",
      "source": [
        "#  Implement a generator function that reads a file line by line and yields each line as a string.\n",
        "L = [\"Annu\\n\", \"Bittu\\n\", \"Akki\\n\"]\n",
        "\n",
        "# writing to file\n",
        "file1 = open('myfile.txt', 'w')\n",
        "file1.writelines(L)\n",
        "file1.close()\n",
        "\n",
        "# Using readlines()\n",
        "file1 = open('myfile.txt', 'r')\n",
        "Lines = file1.readlines()\n",
        "\n",
        "count = 0\n",
        "# Strips the newline character\n",
        "for line in Lines:\n",
        "    count += 1\n",
        "    print(\"Line{}: {}\".format(count, line.strip()))"
      ],
      "metadata": {
        "id": "YWSWMrr71NL0",
        "colab": {
          "base_uri": "https://localhost:8080/"
        },
        "outputId": "d545140d-0322-448c-ded1-1fe8fdce47ea"
      },
      "execution_count": null,
      "outputs": [
        {
          "output_type": "stream",
          "name": "stdout",
          "text": [
            "Line1: Annu\n",
            "Line2: Bittu\n",
            "Line3: Akki\n"
          ]
        }
      ]
    },
    {
      "cell_type": "code",
      "source": [
        "# Use a lambda function in Python to sort a list of tuples based on the second element of each tuple.\n",
        "# Input list of tuples\n",
        "a = [(1, 'Python'), (2, 'with'), (3, 'GFG')]\n",
        "\n",
        "# Define the specific order\n",
        "order = ['with', 'Python', 'GFG']\n",
        "\n",
        "# Sort the list of tuples based on the specific order\n",
        "res = sorted(a, key=lambda x: order.index(x[1]))\n",
        "print(res)"
      ],
      "metadata": {
        "id": "1LE4VOAF1NlA",
        "colab": {
          "base_uri": "https://localhost:8080/"
        },
        "outputId": "a204e725-6fb5-4194-980d-f7c7e2a79b9e"
      },
      "execution_count": null,
      "outputs": [
        {
          "output_type": "stream",
          "name": "stdout",
          "text": [
            "[(2, 'with'), (1, 'Python'), (3, 'GFG')]\n"
          ]
        }
      ]
    },
    {
      "cell_type": "code",
      "source": [
        "# write a python program tha'map()' to convert to list of temperatures from celsius to Fahrenheit.\n",
        "celsius = 37.5\n",
        "fahrenheit = (celsius * 9/5) + 32\n",
        "print('%0.1f degree Celsius is equal to %0.1f degree Fahrenheit' %(celsius,fahrenheit))"
      ],
      "metadata": {
        "id": "vsbQMyDo1N1k",
        "colab": {
          "base_uri": "https://localhost:8080/"
        },
        "outputId": "1669edfb-1001-4d1d-c1a9-106a091abdcd"
      },
      "execution_count": null,
      "outputs": [
        {
          "output_type": "stream",
          "name": "stdout",
          "text": [
            "37.5 degree Celsius is equal to 99.5 degree Fahrenheit\n"
          ]
        }
      ]
    },
    {
      "cell_type": "code",
      "source": [
        "# Create a Python program that uses `filter()` to remove all the vowels from a given string.\n",
        "string = \"Swapneshsoni\"\n",
        "\n",
        "vowels = ['a', 'e', 'i', 'o', 'u', 'A', 'E', 'I', 'O', 'U']\n",
        "result = \"\"\n",
        "\n",
        "for char in string:\n",
        "    if char not in vowels:\n",
        "        result = result + char\n",
        "\n",
        "print(\"\\nAfter removing Vowels: \", result)"
      ],
      "metadata": {
        "id": "5Fb4NxEL2BPX",
        "colab": {
          "base_uri": "https://localhost:8080/"
        },
        "outputId": "dc14bd5c-5403-4787-82c7-93cc99fd03a1"
      },
      "execution_count": null,
      "outputs": [
        {
          "output_type": "stream",
          "name": "stdout",
          "text": [
            "\n",
            "After removing Vowels:  Swpnshsn\n"
          ]
        }
      ]
    },
    {
      "cell_type": "code",
      "source": [
        "c\n",
        "orders = [ [\"34587\", \"Learning Python, Mark Lutz\", 4, 40.95],[\"98762\", \"Programming Python, Mark Lutz\", 5, 56.80],[\"77226\", \"Head First Python, Paul Barry\", 3,32.95],[\"88112\", \"Einführung in Python3, Bernd Klein\", \t3, 24.99]]\n",
        "\n"
      ],
      "metadata": {
        "id": "SFkjmXgK2BkJ",
        "colab": {
          "base_uri": "https://localhost:8080/",
          "height": 332
        },
        "outputId": "e0b946f3-49cb-49df-fc4b-63fa0bccd5db"
      },
      "execution_count": null,
      "outputs": [
        {
          "output_type": "error",
          "ename": "NameError",
          "evalue": "name 'min_order' is not defined",
          "traceback": [
            "\u001b[0;31m---------------------------------------------------------------------------\u001b[0m",
            "\u001b[0;31mNameError\u001b[0m                                 Traceback (most recent call last)",
            "\u001b[0;32m<ipython-input-45-5dba28de6c7a>\u001b[0m in \u001b[0;36m<cell line: 0>\u001b[0;34m()\u001b[0m\n\u001b[1;32m     12\u001b[0m \u001b[0morders\u001b[0m \u001b[0;34m=\u001b[0m \u001b[0;34m[\u001b[0m \u001b[0;34m[\u001b[0m\u001b[0;34m\"34587\"\u001b[0m\u001b[0;34m,\u001b[0m \u001b[0;34m\"Learning Python, Mark Lutz\"\u001b[0m\u001b[0;34m,\u001b[0m \u001b[0;36m4\u001b[0m\u001b[0;34m,\u001b[0m \u001b[0;36m40.95\u001b[0m\u001b[0;34m]\u001b[0m\u001b[0;34m,\u001b[0m\u001b[0;34m[\u001b[0m\u001b[0;34m\"98762\"\u001b[0m\u001b[0;34m,\u001b[0m \u001b[0;34m\"Programming Python, Mark Lutz\"\u001b[0m\u001b[0;34m,\u001b[0m \u001b[0;36m5\u001b[0m\u001b[0;34m,\u001b[0m \u001b[0;36m56.80\u001b[0m\u001b[0;34m]\u001b[0m\u001b[0;34m,\u001b[0m\u001b[0;34m[\u001b[0m\u001b[0;34m\"77226\"\u001b[0m\u001b[0;34m,\u001b[0m \u001b[0;34m\"Head First Python, Paul Barry\"\u001b[0m\u001b[0;34m,\u001b[0m \u001b[0;36m3\u001b[0m\u001b[0;34m,\u001b[0m\u001b[0;36m32.95\u001b[0m\u001b[0;34m]\u001b[0m\u001b[0;34m,\u001b[0m\u001b[0;34m[\u001b[0m\u001b[0;34m\"88112\"\u001b[0m\u001b[0;34m,\u001b[0m \u001b[0;34m\"Einführung in Python3, Bernd Klein\"\u001b[0m\u001b[0;34m,\u001b[0m   \u001b[0;36m3\u001b[0m\u001b[0;34m,\u001b[0m \u001b[0;36m24.99\u001b[0m\u001b[0;34m]\u001b[0m\u001b[0;34m]\u001b[0m\u001b[0;34m\u001b[0m\u001b[0;34m\u001b[0m\u001b[0m\n\u001b[1;32m     13\u001b[0m \u001b[0;34m\u001b[0m\u001b[0m\n\u001b[0;32m---> 14\u001b[0;31m \u001b[0minvoice_totals\u001b[0m \u001b[0;34m=\u001b[0m \u001b[0mlist\u001b[0m\u001b[0;34m(\u001b[0m\u001b[0mmap\u001b[0m\u001b[0;34m(\u001b[0m\u001b[0;32mlambda\u001b[0m \u001b[0mx\u001b[0m\u001b[0;34m:\u001b[0m \u001b[0mx\u001b[0m \u001b[0;32mif\u001b[0m \u001b[0mx\u001b[0m\u001b[0;34m[\u001b[0m\u001b[0;36m1\u001b[0m\u001b[0;34m]\u001b[0m \u001b[0;34m>=\u001b[0m \u001b[0mmin_order\u001b[0m \u001b[0;32melse\u001b[0m \u001b[0;34m(\u001b[0m\u001b[0mx\u001b[0m\u001b[0;34m[\u001b[0m\u001b[0;36m0\u001b[0m\u001b[0;34m]\u001b[0m\u001b[0;34m,\u001b[0m \u001b[0mx\u001b[0m\u001b[0;34m[\u001b[0m\u001b[0;36m1\u001b[0m\u001b[0;34m]\u001b[0m \u001b[0;34m+\u001b[0m \u001b[0;36m10\u001b[0m\u001b[0;34m)\u001b[0m\u001b[0;34m,\u001b[0m\u001b[0mmap\u001b[0m\u001b[0;34m(\u001b[0m\u001b[0;32mlambda\u001b[0m \u001b[0mx\u001b[0m\u001b[0;34m:\u001b[0m \u001b[0;34m(\u001b[0m\u001b[0mx\u001b[0m\u001b[0;34m[\u001b[0m\u001b[0;36m0\u001b[0m\u001b[0;34m]\u001b[0m\u001b[0;34m,\u001b[0m\u001b[0mx\u001b[0m\u001b[0;34m[\u001b[0m\u001b[0;36m2\u001b[0m\u001b[0;34m]\u001b[0m \u001b[0;34m*\u001b[0m \u001b[0mx\u001b[0m\u001b[0;34m[\u001b[0m\u001b[0;36m3\u001b[0m\u001b[0;34m]\u001b[0m\u001b[0;34m)\u001b[0m\u001b[0;34m,\u001b[0m \u001b[0morders\u001b[0m\u001b[0;34m)\u001b[0m\u001b[0;34m)\u001b[0m\u001b[0;34m)\u001b[0m\u001b[0;34m\u001b[0m\u001b[0;34m\u001b[0m\u001b[0m\n\u001b[0m\u001b[1;32m     15\u001b[0m \u001b[0;34m\u001b[0m\u001b[0m\n",
            "\u001b[0;32m<ipython-input-45-5dba28de6c7a>\u001b[0m in \u001b[0;36m<lambda>\u001b[0;34m(x)\u001b[0m\n\u001b[1;32m     12\u001b[0m \u001b[0morders\u001b[0m \u001b[0;34m=\u001b[0m \u001b[0;34m[\u001b[0m \u001b[0;34m[\u001b[0m\u001b[0;34m\"34587\"\u001b[0m\u001b[0;34m,\u001b[0m \u001b[0;34m\"Learning Python, Mark Lutz\"\u001b[0m\u001b[0;34m,\u001b[0m \u001b[0;36m4\u001b[0m\u001b[0;34m,\u001b[0m \u001b[0;36m40.95\u001b[0m\u001b[0;34m]\u001b[0m\u001b[0;34m,\u001b[0m\u001b[0;34m[\u001b[0m\u001b[0;34m\"98762\"\u001b[0m\u001b[0;34m,\u001b[0m \u001b[0;34m\"Programming Python, Mark Lutz\"\u001b[0m\u001b[0;34m,\u001b[0m \u001b[0;36m5\u001b[0m\u001b[0;34m,\u001b[0m \u001b[0;36m56.80\u001b[0m\u001b[0;34m]\u001b[0m\u001b[0;34m,\u001b[0m\u001b[0;34m[\u001b[0m\u001b[0;34m\"77226\"\u001b[0m\u001b[0;34m,\u001b[0m \u001b[0;34m\"Head First Python, Paul Barry\"\u001b[0m\u001b[0;34m,\u001b[0m \u001b[0;36m3\u001b[0m\u001b[0;34m,\u001b[0m\u001b[0;36m32.95\u001b[0m\u001b[0;34m]\u001b[0m\u001b[0;34m,\u001b[0m\u001b[0;34m[\u001b[0m\u001b[0;34m\"88112\"\u001b[0m\u001b[0;34m,\u001b[0m \u001b[0;34m\"Einführung in Python3, Bernd Klein\"\u001b[0m\u001b[0;34m,\u001b[0m   \u001b[0;36m3\u001b[0m\u001b[0;34m,\u001b[0m \u001b[0;36m24.99\u001b[0m\u001b[0;34m]\u001b[0m\u001b[0;34m]\u001b[0m\u001b[0;34m\u001b[0m\u001b[0;34m\u001b[0m\u001b[0m\n\u001b[1;32m     13\u001b[0m \u001b[0;34m\u001b[0m\u001b[0m\n\u001b[0;32m---> 14\u001b[0;31m \u001b[0minvoice_totals\u001b[0m \u001b[0;34m=\u001b[0m \u001b[0mlist\u001b[0m\u001b[0;34m(\u001b[0m\u001b[0mmap\u001b[0m\u001b[0;34m(\u001b[0m\u001b[0;32mlambda\u001b[0m \u001b[0mx\u001b[0m\u001b[0;34m:\u001b[0m \u001b[0mx\u001b[0m \u001b[0;32mif\u001b[0m \u001b[0mx\u001b[0m\u001b[0;34m[\u001b[0m\u001b[0;36m1\u001b[0m\u001b[0;34m]\u001b[0m \u001b[0;34m>=\u001b[0m \u001b[0mmin_order\u001b[0m \u001b[0;32melse\u001b[0m \u001b[0;34m(\u001b[0m\u001b[0mx\u001b[0m\u001b[0;34m[\u001b[0m\u001b[0;36m0\u001b[0m\u001b[0;34m]\u001b[0m\u001b[0;34m,\u001b[0m \u001b[0mx\u001b[0m\u001b[0;34m[\u001b[0m\u001b[0;36m1\u001b[0m\u001b[0;34m]\u001b[0m \u001b[0;34m+\u001b[0m \u001b[0;36m10\u001b[0m\u001b[0;34m)\u001b[0m\u001b[0;34m,\u001b[0m\u001b[0mmap\u001b[0m\u001b[0;34m(\u001b[0m\u001b[0;32mlambda\u001b[0m \u001b[0mx\u001b[0m\u001b[0;34m:\u001b[0m \u001b[0;34m(\u001b[0m\u001b[0mx\u001b[0m\u001b[0;34m[\u001b[0m\u001b[0;36m0\u001b[0m\u001b[0;34m]\u001b[0m\u001b[0;34m,\u001b[0m\u001b[0mx\u001b[0m\u001b[0;34m[\u001b[0m\u001b[0;36m2\u001b[0m\u001b[0;34m]\u001b[0m \u001b[0;34m*\u001b[0m \u001b[0mx\u001b[0m\u001b[0;34m[\u001b[0m\u001b[0;36m3\u001b[0m\u001b[0;34m]\u001b[0m\u001b[0;34m)\u001b[0m\u001b[0;34m,\u001b[0m \u001b[0morders\u001b[0m\u001b[0;34m)\u001b[0m\u001b[0;34m)\u001b[0m\u001b[0;34m)\u001b[0m\u001b[0;34m\u001b[0m\u001b[0;34m\u001b[0m\u001b[0m\n\u001b[0m\u001b[1;32m     15\u001b[0m \u001b[0;34m\u001b[0m\u001b[0m\n",
            "\u001b[0;31mNameError\u001b[0m: name 'min_order' is not defined"
          ]
        }
      ]
    }
  ]
}